{
 "cells": [
  {
   "cell_type": "code",
   "execution_count": 18,
   "metadata": {},
   "outputs": [
    {
     "name": "stdout",
     "output_type": "stream",
     "text": [
      "Anadolu Efes\n"
     ]
    }
   ],
   "source": [
    "from random import randint\n",
    "\n",
    "# Jums duotas stringas: “Žalgiris, Anadolu Efes, Barcelona BC”. Pasinaudodami ciklų pagalba iš stringo ištraukite vieną atsitiktinį komandos pavadinimą. Rezultate kablelių ir tarpų neturi būti. \n",
    "# Rezultato pvz: Anadolu Efes\n",
    "\n",
    "str = \"Žalgiris, Anadolu Efes, Barcelona BC\"\n",
    "\n",
    "komandos = str.split(\", \")\n",
    "\n",
    "print(komandos[randint(0, len(komandos))])\n",
    "\n",
    "# print(randint(0, 10))"
   ]
  },
  {
   "cell_type": "code",
   "execution_count": null,
   "metadata": {},
   "outputs": [
    {
     "name": "stdout",
     "output_type": "stream",
     "text": [
      "S\n",
      "H\n"
     ]
    }
   ],
   "source": [
    "from random import randint\n",
    "\n",
    "# Metam monetą. Monetos kritimo rezultatą imituojame pasinaudodami atsitiktinio skaičiaus generavimo funkcija. 0 reiškia herbą, o 1 - skaičius. Monetos metimo rezultatus terminale, atskiroje eilutėje: “S” jeigu iškrito skaičius ir “H” jeigu herbas. Suprogramuokite tris skirtingus scenarijus kai monetos metimą stabdome:\n",
    "# Iškritus herbui; Pvz: SSSSSSSH\n",
    "# Tris kartus iškritus herbui; Pvz SSSHSSHSSSH\n",
    "# Tris kartus iš eilės iškritus herbui; SSHHSSHSHHH\n",
    "\n",
    "while True:\n",
    "    if randint(0, 1) == 0 :\n",
    "        print(\"H\")\n",
    "        break\n",
    "    else :\n",
    "        print(\"S\")"
   ]
  },
  {
   "cell_type": "code",
   "execution_count": 29,
   "metadata": {},
   "outputs": [
    {
     "name": "stdout",
     "output_type": "stream",
     "text": [
      "SSSSHHSH"
     ]
    }
   ],
   "source": [
    "from random import randint\n",
    "\n",
    "kiekis = 0\n",
    "\n",
    "while kiekis < 3:\n",
    "    if randint(0, 1) == 0 :\n",
    "        print(\"H\", end = \"\")\n",
    "        \n",
    "        kiekis += 1\n",
    "    else :\n",
    "        print(\"S\", end = \"\")"
   ]
  },
  {
   "cell_type": "code",
   "execution_count": 44,
   "metadata": {},
   "outputs": [
    {
     "name": "stdout",
     "output_type": "stream",
     "text": [
      "SHHSHSSHHH"
     ]
    }
   ],
   "source": [
    "from random import randint\n",
    "\n",
    "kiekis = 0\n",
    "\n",
    "while kiekis < 3:\n",
    "    if randint(0, 1) == 0 :\n",
    "        print(\"H\", end = \"\")\n",
    "        \n",
    "        kiekis += 1\n",
    "    else :\n",
    "        print(\"S\", end = \"\")\n",
    "        \n",
    "        kiekis = 0"
   ]
  },
  {
   "cell_type": "code",
   "execution_count": null,
   "metadata": {},
   "outputs": [
    {
     "name": "stdout",
     "output_type": "stream",
     "text": [
      "[ 285 ], 104, 229, 232, 196, 28, 264, 223, 259, 208, 79, 249, 237, 257, 84, 270, 89, 64, 120, 218, 271, 7, 0, 135, 267, 110, 165, 260, 172, 160, 264, 36, 111, 112, 18, 82, 214, 189, 36, [ 284 ], 50, 222, [ 285 ], 116, 243, 268, 269, 225, 64, 24, 85, 194, 164, 50, [ 293 ], 131, 253, 40, 99, 223, 122, 154, 260, 204, 145, 93, 199, 73, 11, 22, 234, 165, 95, 236, 49, 57, 34, 157, 185, 177, 230, 194, 51, 238, 89, 50, 218, 5, [ 296 ], [ 285 ], 257, 21, 53, 12, 104, 80, 89, 189, 171, 205, 221, 251, [ 286 ], 178, 5, 224, 39, 250, 17, 226, 93, 74, 85, 263, [ 298 ], 102, 81, 2, 31, 265, 145, 129, 183, 242, 233, 248, 42, [ 290 ], 18, [ 287 ], 232, 4, 137, 90, [ 277 ], 89, 131, 210, [ 277 ], 25, 77, 173, 153, 190, 266, 30, 161, 73, 248, 99, 260, 27, 55, 56, 128, 62, [ 299 ], 0, 249, 184, [ 288 ], 47, 100, 61, 243, 79, 233, 270, 157, 233, 46, 30, 18, 48, 64, 222, 36, 271, [ 282 ], 17, [ 299 ], 1, 155, 27, 217, 273, 186, 90, 35, 84, 57, 196, 216, 243, 34, 109, 8, 40, 205, 121, 23, 144, 180, 80, 11, 36, 99, 11, 118, 84, 274, [ 288 ], 13, 271, 242, 258, 103, [ 296 ], 224, 125, 119, 173, 220, 229, 221, 54, 72, 246, 232, 109, 218, 209, 61, 126, 193, 46, 63, 20, 46, 33, 51, 232, [ 279 ], 73, 207, 166, 21, 2, 53, [ 278 ], 202, 64, 208, 133, 24, 266, [ 292 ], 103, 239, 66, 114, 190, 264, 254, 148, 168, [ 278 ], 101, 43, 63, 92, 61, 30, 12, 122, 46, 3, 203, 124, 165, 193, [ 298 ], 11, 49, 203, 20, [ 288 ], 12, 125, 161, 255, 49, 206, 79, 236, 196, 9, 109, 36, 15, \n",
      "Skaičių didesnių nei 150 yra:  145\n"
     ]
    }
   ],
   "source": [
    "from random import randint\n",
    "\n",
    "# Sugeneruokite 300 atsitiktinių skaičių nuo 0 iki 300, atspausdinkite juos atskirtus tarpais vienoje eilutėje ir suskaičiuokite kiek tarp jų yra didesnių už 150.  \n",
    "# Skaičiai didesni nei 275 turi būti atspausdinti skliausteliuose” [ ] “.\n",
    "\n",
    "skaiciuotuvas = 0\n",
    "\n",
    "for x in range(0, 300) :\n",
    "    skaicius = randint(0, 300)\n",
    "\n",
    "    if skaicius > 275 :\n",
    "        print(\"[\", skaicius, \"]\", end = \", \")\n",
    "    else :\n",
    "        print(skaicius, end = \", \")\n",
    "\n",
    "    if skaicius > 150 :\n",
    "        skaiciuotuvas += 1\n",
    "\n",
    "print(\"\\nSkaičių didesnių nei 150 yra: \", skaiciuotuvas)\n"
   ]
  },
  {
   "cell_type": "code",
   "execution_count": 68,
   "metadata": {},
   "outputs": [
    {
     "name": "stdout",
     "output_type": "stream",
     "text": [
      "77, 154, 231, 308, 385, 462, 539, 616, 693, 770, 847, 924, 1001, 1078, 1155, 1232, 1309, 1386, 1463, 1540, 1617, 1694, 1771, 1848, 1925, 2002, 2079, 2156, 2233, 2310, 2387, 2464, 2541, 2618, 2695, 2772, 2849, 2926, 3003, 3080, 3157, 3234, 3311, 3388, 3465, 3542, 3619, 3696, 3773, 3850, 3927, 4004, 4081, 4158, 4235, 4312, 4389, 4466, 4543, 4620, 4697, 4774, 4851, 4928, 5005, 5082, 5159, 5236, 5313, 5390, 5467, 5544, 5621, 5698, 5775, 5852, 5929, 6006, 6083, 6160, 6237, 6314, 6391, 6468, 6545, 6622, 6699, 6776, 6853, 6930, 7007, 7084, 7161, 7238, 7315, 7392, 7469, 7546, 7623, 7700, 7777, 7854, 7931, 8008, 8085, 8162, 8239, 8316, 8393, 8470, 8547, 8624, 8701, 8778, 8855, 8932, 9009, 9086, 9163, 9240, 9317, 9394, 9471, 9548, 9625, 9702, 9779, 9856, 9933, 10010, 10087, 10164, 10241, 10318, 10395, 10472, 10549, 10626, 10703, 10780, 10857, 10934, 11011, 11088, 11165, 11242, 11319, 11396, 11473, 11550, 11627, 11704, 11781, 11858, 11935, 12012, 12089, 12166, 12243, 12320, 12397, 12474, 12551, 12628, 12705, 12782, 12859, 12936, 13013, 13090, 13167, 13244, 13321, 13398, 13475, 13552, 13629, 13706, 13783, 13860, 13937, 14014, 14091, 14168, 14245, 14322, 14399, 14476, 14553, 14630, 14707, 14784, 14861, 14938, 15015, 15092, 15169, 15246, 15323, 15400, 15477, 15554, 15631, 15708, 15785, 15862, 15939, 16016, 16093, 16170, 16247, 16324, 16401, 16478, 16555, 16632, 16709, 16786, 16863, 16940, 17017, 17094, 17171, 17248, 17325, 17402, 17479, 17556, 17633, 17710, 17787, 17864, 17941, 18018, 18095, 18172, 18249, 18326, 18403, 18480, 18557, 18634, 18711, 18788, 18865, 18942, 19019, 19096, 19173, 19250, 19327, 19404, 19481, 19558, 19635, 19712, 19789, 19866, 19943, 20020, 20097, 20174, 20251, 20328, 20405, 20482, 20559, 20636, 20713, 20790, 20867, 20944, 21021, 21098, 21175, 21252, 21329, 21406, 21483, 21560, 21637, 21714, 21791, 21868, 21945, 22022, 22099, 22176, 22253, 22330, 22407, 22484, 22561, 22638, 22715, 22792, 22869, 22946, 23023, 23100, 23177, 23254, 23331, 23408, 23485, 23562, 23639, 23716, 23793, 23870, 23947, 24024, 24101, 24178, 24255, 24332, 24409, 24486, 24563, 24640, 24717, 24794, 24871, 24948, 25025, 25102, 25179, 25256, 25333, 25410, 25487, 25564, 25641, 25718, 25795, 25872, 25949, 26026, 26103, 26180, 26257, 26334, 26411, 26488, 26565, 26642, 26719, 26796, 26873, 26950, 27027, 27104, 27181, 27258, 27335, 27412, 27489, 27566, 27643, 27720, 27797, 27874, 27951, 28028, 28105, 28182, 28259, 28336, 28413, 28490, 28567, 28644, 28721, 28798, 28875, 28952, 29029, 29106, 29183, 29260, 29337, 29414, 29491, 29568, 29645, 29722, 29799, 29876, 29953, 30030, 30107, 30184, 30261, 30338, 30415, 30492, 30569, 30646, 30723, 30800, 30877, 30954, 31031, 31108, 31185, 31262, 31339, 31416, 31493, 31570, 31647, 31724, 31801, 31878, 31955, 32032, 32109, 32186, 32263, 32340, 32417, 32494, 32571, 32648, 32725, 32802, 32879, 32956, 33033, 33110, 33187, 33264, 33341, 33418, 33495, 33572, 33649, 33726, 33803, 33880, 33957, 34034, 34111, 34188, 34265, 34342, 34419, 34496, 34573, 34650, 34727, 34804, 34881, 34958\n"
     ]
    }
   ],
   "source": [
    "# Vienoje eilutėje atspausdinkite visus skaičius nuo 1 iki 3000, kurie dalijasi iš 77 be liekanos \n",
    "# (remainder operatorius). Skaičius atskirkite kableliais. \n",
    "# Po paskutinio skaičiaus kablelio neturi būti.\n",
    "\n",
    "dydis = 35000\n",
    "\n",
    "# print(dydis - dydis % 77)\n",
    "\n",
    "for x in range(1, dydis + 1) :\n",
    "    if x % 77 == 0 :\n",
    "        if x == dydis - (dydis % 77) :\n",
    "            print(x)\n",
    "        else : \n",
    "            print(x, end = \", \")"
   ]
  },
  {
   "cell_type": "code",
   "execution_count": 71,
   "metadata": {},
   "outputs": [
    {
     "name": "stdout",
     "output_type": "stream",
     "text": [
      "vilniuscodingschool\n"
     ]
    }
   ],
   "source": [
    "# Jūs gavote užšifruotą žinutę: “jrgkjxvbsigdvifpjqyzlzxsxzjnvgojlziaofdfnufymsjqsxxyknqcchmpepoljekhydgmfvhwipvopllndyuddcgxnleutsmprxqlcnxxthdhtpnutqocvtuanouumbkmlxexzmc”\n",
    "# Surasti tai kas joje yra paslėpta jums padės varlė. Ji tupi ežero krante, o kiekviena raidė yra akmuo. Varlytė vienu šuoliu geba peršokti šešis akmenis. Su kiekvienu šuoliu priartėsite prie tikslo.\n",
    "# Ką sako žinutė? \n",
    "\n",
    "str = \"jrgkjxvbsigdvifpjqyzlzxsxzjnvgojlziaofdfnufymsjqsxxyknqcchmpepoljekhydgmfvhwipvopllndyuddcgxnleutsmprxqlcnxxthdhtpnutqocvtuanouumbkmlxexzmc\"\n",
    "\n",
    "print(str[6::7])"
   ]
  }
 ],
 "metadata": {
  "kernelspec": {
   "display_name": "Python 3",
   "language": "python",
   "name": "python3"
  },
  "language_info": {
   "codemirror_mode": {
    "name": "ipython",
    "version": 3
   },
   "file_extension": ".py",
   "mimetype": "text/x-python",
   "name": "python",
   "nbconvert_exporter": "python",
   "pygments_lexer": "ipython3",
   "version": "3.13.0"
  }
 },
 "nbformat": 4,
 "nbformat_minor": 2
}
