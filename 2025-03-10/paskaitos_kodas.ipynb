{
 "cells": [
  {
   "cell_type": "code",
   "execution_count": null,
   "metadata": {},
   "outputs": [
    {
     "name": "stdout",
     "output_type": "stream",
     "text": [
      "JONAVOS ŽINIOS – Jonavos ir Jonavos rajono informacinis portalas\n"
     ]
    }
   ],
   "source": [
    "import requests\n",
    "from bs4 import BeautifulSoup\n",
    "\n",
    "doc = requests.get(\"https://www.jonavoszinios.lt/\")\n",
    "\n",
    "# Atgal gaunamas statuso kodas\n",
    "# print(doc.status_code)\n",
    "\n",
    "if doc.status_code != 200 :\n",
    "    print(\"Prisijungimas nepavyko\")\n",
    "\n",
    "# Konvertuojame gautą HTML kodą į objektą\n",
    "html = BeautifulSoup(doc.text)\n",
    "\n",
    "# metodas find ieško turinio pagal tekstą\n",
    "\n",
    "# metodas select ieško vieno specifinio elemento pagal CSS selektorių\n",
    "title = html.select_one(\"title\")\n",
    "\n",
    "print(title.text)\n"
   ]
  },
  {
   "cell_type": "code",
   "execution_count": 9,
   "metadata": {},
   "outputs": [
    {
     "name": "stdout",
     "output_type": "stream",
     "text": [
      "\n",
      "aktualijos\n",
      "\n",
      "UAB „Jonavos šilumos tinklai“ apie mazuto ūkio likvidavimą\n"
     ]
    }
   ],
   "source": [
    "import requests\n",
    "from bs4 import BeautifulSoup\n",
    "\n",
    "doc = requests.get(\"https://www.jonavoszinios.lt/\")\n",
    "\n",
    "# Atgal gaunamas statuso kodas\n",
    "# print(doc.status_code)\n",
    "\n",
    "if doc.status_code != 200 :\n",
    "    print(\"Prisijungimas nepavyko\")\n",
    "\n",
    "# Konvertuojame gautą HTML kodą į objektą\n",
    "html = BeautifulSoup(doc.text)\n",
    "\n",
    "# Parenkamas vienas elementas kuris yra pats pirmas dokumente\n",
    "\n",
    "entry = html.select_one(\".entry\")\n",
    "\n",
    "# Filtruojame ankstesniame bloke esantį turinį\n",
    "print(entry.select_one(\".entry-categories\").text)\n",
    "print(entry.select_one(\"h2\").text)"
   ]
  },
  {
   "cell_type": "code",
   "execution_count": 15,
   "metadata": {},
   "outputs": [
    {
     "name": "stdout",
     "output_type": "stream",
     "text": [
      "Pavadinimas: Glaukoma – tyli grėsmė regėjimui: žinokite, ką kompensuoja ligonių kasos, Nuoroda: https://www.jonavoszinios.lt/naujiena/glaukoma-tyli-gresme-regejimui-zinokite-ka-kompensuoja-ligoniu-kasos\n",
      "Pavadinimas: Vasarį mažėjo nedarbas, augo sezoninių darbų paklausa, Nuoroda: https://www.jonavoszinios.lt/naujiena/vasari-mazejo-nedarbas-augo-sezoniniu-darbu-paklausa\n",
      "Pavadinimas: Sekmadienio popietę tarnybos skubėjo prie bėgių Basanavičiaus g., Nuoroda: https://www.jonavoszinios.lt/naujiena/sekmadienio-popiete-tarnybos-skubejo-prie-begiu-basanaviciaus-g\n",
      "Pavadinimas: Jonavos rajone apvogtas garažas, Nuoroda: https://www.jonavoszinios.lt/naujiena/jonavos-rajone-pavogtas-garazas\n",
      "Pavadinimas: Laukus tręšiantiems tik mėšlu ir (ar) srutomis, tręšimo planų nereikia, Nuoroda: https://www.jonavoszinios.lt/naujiena/laukus-tresiantiems-tik-meslu-ir-ar-srutomis-tresimo-planu-nereikia\n",
      "Pavadinimas: UAB „Jonavos šilumos tinklai“ apie mazuto ūkio likvidavimą, Nuoroda: https://www.jonavoszinios.lt/naujiena/uab-jonavos-silumos-tinklai-apie-mazuto-ukio-likvidavima\n",
      "Pavadinimas: Neramus sekmadienis Bukonyse: vertėsi automobilis, sudegė pastatas, Nuoroda: https://www.jonavoszinios.lt/naujiena/neramus-sekmadienis-bukonyse-vertesi-automobilis-sudege-pastatas\n",
      "Pavadinimas: Tiriama, kodėl apdegė Ruklos piliakalnio laiptai  , Nuoroda: https://www.jonavoszinios.lt/naujiena/tiriama-kodel-apdege-ruklos-piliakalnio-laiptai\n",
      "Pavadinimas: Savaitgalio girtuoklystės Jonavoje, Nuoroda: https://www.jonavoszinios.lt/naujiena/savaitgalio-girtuoklystes-jonavoje\n",
      "Pavadinimas: XXXVI-asis bėgimas: eismo ribojimas Jonavos mieste ir Kulvos seniūnijoje kovo 11-ąją, Nuoroda: https://www.jonavoszinios.lt/naujiena/xxxvi-asis-begimas-eismo-ribojimas-jonavos-mieste-ir-kulvos-seniunijoje-kovo-11-aja\n",
      "Pavadinimas: Laukus tręšiantiems tik mėšlu ir (ar) srutomis, tręšimo planų nereikia, Nuoroda: https://www.jonavoszinios.lt/naujiena/laukus-tresiantiems-tik-meslu-ir-ar-srutomis-tresimo-planu-nereikia\n",
      "Pavadinimas: Modernizuok savo ūkį: investicinė parama smulkiems ir stambiems ūkiams, Nuoroda: https://www.jonavoszinios.lt/naujiena/modernizuok-savo-uki-investicine-parama-smulkiems-ir-stambiems-ukiams-2\n",
      "Pavadinimas: Kainų palyginimo tyrimas: tarp analogiškų produktų krepšelių – beveik trijų eurų skirtumas, Nuoroda: https://www.jonavoszinios.lt/naujiena/kainu-palyginimo-tyrimas-tarp-analogisku-produktu-krepseliu-beveik-triju-euru-skirtumas\n",
      "Pavadinimas: Mero patarėja B. Gailienė Seime pristatė Jonavos patirtį lygių galimybių srityje, Nuoroda: https://www.jonavoszinios.lt/naujiena/mero-patareja-b-gailiene-seime-pristate-jonavos-patirti-lygiu-galimybiu-srityje\n",
      "Pavadinimas: Valstybė galės teikti iki 100 proc. garantijas investicijų į gynybos pramonę paskoloms, Nuoroda: https://www.jonavoszinios.lt/naujiena/valstybe-gales-teikti-iki-100-proc-garantijas-investiciju-i-gynybos-pramone-paskoloms\n",
      "Pavadinimas: Kelininkai dalinasi skaičiais: kiek duobių jau užtaisyta, Nuoroda: https://www.jonavoszinios.lt/naujiena/kelininkai-dalinasi-skaiciais-kiek-duobiu-jau-uztaisyta\n",
      "Pavadinimas: Lietuvos metrologijos inspekcija nuolat gauna gyventojų skundus dėl išmaniųjų elektros skaitiklių, Nuoroda: https://www.jonavoszinios.lt/naujiena/lietuvos-metrologijos-inspekcija-nuolat-gauna-gyventoju-skundus-del-ismaniuju-elektros-skaitikliu\n",
      "Pavadinimas: Vengrijoje – snukio ir nagų ligos protrūkis. VMVT įspėja: neleisti ūkiuose lankytis pašaliniams asmenims, Nuoroda: https://www.jonavoszinios.lt/naujiena/vengrijoje-snukio-ir-nagu-ligos-protrukis-vmvt-ispeja-neleisti-ukiuose-lankytis-pasaliniams-asmenims\n",
      "Pavadinimas: Jau galite parsisiųsti LT72 programėlę, Nuoroda: https://www.jonavoszinios.lt/naujiena/jau-galite-parsisiusti-lt-72-programele\n",
      "Pavadinimas: Neramus sekmadienis Bukonyse: vertėsi automobilis, sudegė pastatas, Nuoroda: https://www.jonavoszinios.lt/naujiena/neramus-sekmadienis-bukonyse-vertesi-automobilis-sudege-pastatas\n",
      "Pavadinimas: Kovo 11-osios 35-mečio testas „Tik laisvi užaugam dideli“, Nuoroda: https://www.jonavoszinios.lt/naujiena/kovo-11-osios-35-mecio-testas-tik-laisvi-uzaugam-dideli\n",
      "Pavadinimas: Savaitgalio girtuoklystės Jonavoje, Nuoroda: https://www.jonavoszinios.lt/naujiena/savaitgalio-girtuoklystes-jonavoje\n",
      "Pavadinimas: Seimas atšaukė pirmalaikius rinkimus Jonavoje, Nuoroda: https://www.jonavoszinios.lt/naujiena/seimas-atsauke-pirmalaikius-rinkimus-jonavoje\n",
      "Pavadinimas: Tiriama, kodėl apdegė Ruklos piliakalnio laiptai  , Nuoroda: https://www.jonavoszinios.lt/naujiena/tiriama-kodel-apdege-ruklos-piliakalnio-laiptai\n",
      "Pavadinimas: Jonavos Grigorijaus Kanovičiaus biblioteka laukia Jūsų kovo mėnesio renginiuose  , Nuoroda: https://www.jonavoszinios.lt/renginys/jonavos-grigorijaus-kanoviciaus-biblioteka-laukia-jusu-kovo-menesio-renginiuose\n",
      "Pavadinimas: Jonavos kultūros centras kviečia lankytis kovo mėnesio renginiuose, Nuoroda: https://www.jonavoszinios.lt/renginys/jonavos-kulturos-centras-kviecia-lankytis-kovo-menesio-renginiuose\n",
      "Pavadinimas: FILMAS: Pietinia Kronikas, Nuoroda: https://www.jonavoszinios.lt/renginys/filmas-pietinia-kronikas\n",
      "Pavadinimas: Kovo 11-oji — Lietuvos Nepriklausomybės atkūrimo 35-metis, Nuoroda: https://www.jonavoszinios.lt/renginys/kovo-11-oji-lietuvos-nepriklausomybes-atkurimo-35-metis\n",
      "Pavadinimas: Mini ekskursija ,,Pažintis su teatro užkulisiais, Nuoroda: https://www.jonavoszinios.lt/renginys/mini-ekskursija-pazintis-su-teatro-uzkulisiais\n",
      "Pavadinimas: Seimas atšaukė pirmalaikius rinkimus Jonavoje, Nuoroda: https://www.jonavoszinios.lt/naujiena/seimas-atsauke-pirmalaikius-rinkimus-jonavoje\n",
      "Pavadinimas: Jonavos ,,CBet\" iš Šiaulių parsiveža pergalę, Nuoroda: https://www.jonavoszinios.lt/naujiena/jonavos-c-bet-is-siauliu-parsiveza-pergale\n",
      "Pavadinimas: Kovo 11-osios minėjimas – bėgte nuo obelisko A. Kulviečiui iki Jonavos, Nuoroda: https://www.jonavoszinios.lt/naujiena/kovo-11-osios-minejimas-begte-nuo-obelisko-a-kulvieciui-iki-jonavos\n",
      "Pavadinimas: Tvarkomas ligoninės ir sveikatos priežiūros centro kiemas, Nuoroda: https://www.jonavoszinios.lt/naujiena/tvarkomas-ligonines-ir-sveikatos-prieziuros-centro-kiemas\n",
      "Pavadinimas: Jonavoje praūžė triukšmingos Užgavėnės: žiema išvaryta, Gavėnas sunaikintas, Nuoroda: https://www.jonavoszinios.lt/naujiena/jonavoje-prauze-triuksmingos-uzgavenes-ziema-isvaryta-gavenas-sunaikintas\n",
      "Pavadinimas: Vasarį mažėjo nedarbas, augo sezoninių darbų paklausa, Nuoroda: https://www.jonavoszinios.lt/naujiena/vasari-mazejo-nedarbas-augo-sezoniniu-darbu-paklausa\n",
      "Pavadinimas: Kainų palyginimo tyrimas: tarp analogiškų produktų krepšelių – beveik trijų eurų skirtumas, Nuoroda: https://www.jonavoszinios.lt/naujiena/kainu-palyginimo-tyrimas-tarp-analogisku-produktu-krepseliu-beveik-triju-euru-skirtumas\n",
      "Pavadinimas: Valstybė galės teikti iki 100 proc. garantijas investicijų į gynybos pramonę paskoloms, Nuoroda: https://www.jonavoszinios.lt/naujiena/valstybe-gales-teikti-iki-100-proc-garantijas-investiciju-i-gynybos-pramone-paskoloms\n",
      "Pavadinimas: Kelininkai dalinasi skaičiais: kiek duobių jau užtaisyta, Nuoroda: https://www.jonavoszinios.lt/naujiena/kelininkai-dalinasi-skaiciais-kiek-duobiu-jau-uztaisyta\n",
      "Pavadinimas: Lietuvos metrologijos inspekcija nuolat gauna gyventojų skundus dėl išmaniųjų elektros skaitiklių, Nuoroda: https://www.jonavoszinios.lt/naujiena/lietuvos-metrologijos-inspekcija-nuolat-gauna-gyventoju-skundus-del-ismaniuju-elektros-skaitikliu\n",
      "Pavadinimas: Mero patarėja B. Gailienė Seime pristatė Jonavos patirtį lygių galimybių srityje, Nuoroda: https://www.jonavoszinios.lt/naujiena/mero-patareja-b-gailiene-seime-pristate-jonavos-patirti-lygiu-galimybiu-srityje\n",
      "Pavadinimas: Moters dienos progai skirtame renginyje bus apdovanotos dvi Metų Jonavietės, Nuoroda: https://www.jonavoszinios.lt/naujiena/moters-dienos-progai-skirtame-renginyje-bus-apdovanotos-dvi-metu-jonavietes\n",
      "Pavadinimas: Tvarkomas ligoninės ir sveikatos priežiūros centro kiemas, Nuoroda: https://www.jonavoszinios.lt/naujiena/tvarkomas-ligonines-ir-sveikatos-prieziuros-centro-kiemas\n",
      "Pavadinimas: Remontui uždaroma Jonavos gydymo įstaigų automobilių aikštelė, Nuoroda: https://www.jonavoszinios.lt/naujiena/remontui-uzdaroma-jonavos-gydymo-istaigu-automobiliu-aikstele\n",
      "Pavadinimas: Jonavos rajono savivaldybėje – sveikatos reikalų koordinatorių susitikimas, Nuoroda: https://www.jonavoszinios.lt/naujiena/jonavos-rajono-savivaldybeje-sveikatos-reikalu-koordinatoriu-susitikimas\n",
      "Pavadinimas: Režisierius Gediminas, prasidėjus teatro mėnesiui Jonavoje: ,,Ieškosime teatro veido ir auginsime bendruomenę”, Nuoroda: https://www.jonavoszinios.lt/naujiena/rezisierius-gediminas-prasidejus-teatro-menesiui-jonavoje-ieskosime-teatro-veido-ir-auginsime-bendruomene\n",
      "Pavadinimas: Žiniasklaida apie M. Sinkevičių: gali kreiptis dėl žalos atlyginimo ir grįžti į politiką, Nuoroda: https://www.jonavoszinios.lt/naujiena/ziniasklaida-apie-m-sinkeviciu-gali-kreiptis-del-zalos-atlyginimo-ir-grizti-i-politika\n",
      "Pavadinimas: Vietoj brangių būrelių – savanorystė. Kas tai ir kuo ji naudinga vaikui?, Nuoroda: https://www.jonavoszinios.lt/naujiena/vietoj-brangiu-bureliu-savanoryste-kas-tai-ir-kuo-ji-naudinga-vaikui\n",
      "Pavadinimas: Kaip vejos robotai mažina vandens sunaudojimą: žalesnė veja su mažesnėmis sąskaitomis, Nuoroda: https://www.jonavoszinios.lt/naujiena/kaip-vejos-robotai-mazina-vandens-sunaudojima-zalesne-veja-su-mazesnemis-saskaitomis\n",
      "Pavadinimas: Jonaviečių apklausos rezultatai: pakilus kuro kainoms, didesnė dalis žmonių ėmė keliauti mažiau, Nuoroda: https://www.jonavoszinios.lt/naujiena/Apklausos-rezultatai-pakilus-kuro-kainoms-didesne-dalis-zmoniu-eme-keliauti-maziau\n",
      "Pavadinimas: Artėjant Lietuvos nepriklausomybės atkūrimo 35-mečiui. Jonas Trumpa: laisvėje gali susikurti tokį gyvenimą, kokio nori, Nuoroda: https://www.jonavoszinios.lt/naujiena/artejant-lietuvos-nepriklausomybes-atkurimo-35-meciui-jonas-trumpa-laisveje-gali-susikurti-toki-gyvenima-kokio-nori\n",
      "Pavadinimas: Artėjant Lietuvos Nepriklausomybės atkūrimo 35-mečiui. Merūnas Vitulskis: už savo laisvę turime labai stipriai kovoti, Nuoroda: https://www.jonavoszinios.lt/naujiena/artejant-lietuvos-nepriklausomybes-atkurimo-35-meciui-merunas-vitulskis-uz-savo-laisve-turime-labai-stipriai-kovoti\n",
      "Pavadinimas: Mihkelis Kirvesas: „Rytoj reikės pilnų tribūnų pagalbos siekiant pergalės prieš vilniečius“ , Nuoroda: https://www.jonavoszinios.lt/naujiena/mihkelis-kirvesas-rytoj-reikes-pilnu-tribunu-pagalbos-siekiant-pergales-pries-vilniecius\n",
      "Pavadinimas: Jonavietis Arūnas Koska iš Pasaulio sportinės žūklės čempionato grįžo su auksu: ,,Kiekviena akimirka kupina įtampos, adrenalino ir džiaugsmo”, Nuoroda: https://www.jonavoszinios.lt/naujiena/jonavietis-arunas-koska-is-pasaulio-sportines-zukles-cempionato-grizo-su-auksu-kiekviena-akimirka-kupina-itampos-adrenalino-ir-dziaugsmo\n",
      "Pavadinimas: Mantas Šernius: „Prieš sezoną buvo daug kalbų, kurias paneigėme“ , Nuoroda: https://www.jonavoszinios.lt/naujiena/mantas-sernius-pries-sezona-buvo-daug-kalbu-kurias-paneigeme\n",
      "Pavadinimas: Jonavos Circle K apjuosta STOP juosta: kas buvo nutikę?, Nuoroda: https://www.jonavoszinios.lt/naujiena/jonavos-circle-k-apjuosta-stop-juosta-kas-buvo-nutike\n",
      "Pavadinimas: Jonavietės kreipimasis: geranoriškai gražinkite pinigus, Nuoroda: https://www.jonavoszinios.lt/naujiena/jonavietes-kreipimasis-geranoriskai-grazinkite-pinigus\n",
      "Pavadinimas: Dėl elektros įrangos sutrikimo rajono gyventojai liko be šilumos, Nuoroda: https://www.jonavoszinios.lt/naujiena/del-elektros-gedimo-rajono-gyventojai-liko-be-silumos\n",
      "Pavadinimas: Jonavos keliuose – netikėtos staigmenos būsimai vairuotojai: gal miestas turi savo, ypatingas eismo taisykles? , Nuoroda: https://www.jonavoszinios.lt/naujiena/jonavos-keliuose-netiketos-staigmenos-busimai-vairuotojai-gal-miestas-turi-savo-ypatingas-eismo-taisykles\n",
      "Pavadinimas: Jonavietė perspėja apie pavojų: vaikai jau ,,tyrinėja\" tvenkinio ledą, Nuoroda: https://www.jonavoszinios.lt/naujiena/jonaviete-perspeja-apie-pavoju-vaikai-jau-tyrineja-tvenkinio-leda\n",
      "Pavadinimas: Glaukoma – tyli grėsmė regėjimui: žinokite, ką kompensuoja ligonių kasos, Nuoroda: https://www.jonavoszinios.lt/naujiena/glaukoma-tyli-gresme-regejimui-zinokite-ka-kompensuoja-ligoniu-kasos\n",
      "Pavadinimas: Valstybinė ligonių kasa siūlo paslaugų apmokėjimo pokyčius: palies ne visas sritis, Nuoroda: https://www.jonavoszinios.lt/naujiena/valstybine-ligoniu-kasa-siulo-paslaugu-apmokejimo-pokycius-palies-ne-visas-sritis\n",
      "Pavadinimas: Jonavos oro taršos matavimo stotelėje fiksuojamas itin aukštas užterštumas, Nuoroda: https://www.jonavoszinios.lt/naujiena/jonavos-oro-tarsos-matavimo-stoteleje-fiksuojamas-oro-uzterstumas\n",
      "Pavadinimas: Ar galima aukoti kraujo nėštumo metu ir po gimdymo? NKC primena, ką būtina žinoti, Nuoroda: https://www.jonavoszinios.lt/naujiena/ar-galima-aukoti-kraujo-nestumo-metu-ir-po-gimdymo-nkc-primena-ka-butina-zinoti\n",
      "Pavadinimas: VLK apie nuotolinę prekybą receptiniais vaistais: ne visi žino, kuo naudinga ir kaip pasinaudoti, Nuoroda: https://www.jonavoszinios.lt/naujiena/vlk-apie-nuotoline-prekyba-receptiniais-vaistais-ne-visi-zino-kuo-naudinga-ir-kaip-pasinaudoti\n",
      "Pavadinimas: Šveicarijos progimnaziją palieka direktorė: redakciją pasiekė jautrus bendruomenės narės laiškas, Nuoroda: https://www.jonavoszinios.lt/naujiena/sveicarijos-progimnazija-palieka-direktore-redakcija-pasieke-jautrus-bendruomenes-nares-laiskas\n",
      "Pavadinimas: Mindaugas Macijauskas. Finansai gynybai ir stručio efektas, Nuoroda: https://www.jonavoszinios.lt/naujiena/mindaugas-macijauskas-finansai-gynybai-ir-strucio-efektas\n",
      "Pavadinimas: Jaunųjų gydytojų asociacija: medikų pasirengimas karui – atsakomybė, kuri negali laukti, Nuoroda: https://www.jonavoszinios.lt/naujiena/jaunuju-gydytoju-asociacija-mediku-pasirengimas-karui-atsakomybe-kuri-negali-laukti\n",
      "Pavadinimas: LPK prezidentas V. Janulevičius: Kodėl taip siunta Rusija, Nuoroda: https://www.jonavoszinios.lt/naujiena/lpk-prezidentas-v-janulevicius-kodel-taip-siunta-rusija\n",
      "Pavadinimas: Domantas Tracevičius. Laikas įteisinti elektros energijos dalijimąsi, Nuoroda: https://www.jonavoszinios.lt/naujiena/domantas-tracevicius-laikas-iteisinti-elektros-energijos-dalijimasi\n",
      "Pavadinimas: Neramus sekmadienis Bukonyse: vertėsi automobilis, sudegė pastatas, Nuoroda: https://www.jonavoszinios.lt/naujiena/neramus-sekmadienis-bukonyse-vertesi-automobilis-sudege-pastatas\n",
      "Pavadinimas: Savaitgalio girtuoklystės Jonavoje, Nuoroda: https://www.jonavoszinios.lt/naujiena/savaitgalio-girtuoklystes-jonavoje\n",
      "Pavadinimas: Tiriama, kodėl apdegė Ruklos piliakalnio laiptai  , Nuoroda: https://www.jonavoszinios.lt/naujiena/tiriama-kodel-apdege-ruklos-piliakalnio-laiptai\n",
      "Pavadinimas: Sekmadienio popietę tarnybos skubėjo prie bėgių Basanavičiaus g., Nuoroda: https://www.jonavoszinios.lt/naujiena/sekmadienio-popiete-tarnybos-skubejo-prie-begiu-basanaviciaus-g\n",
      "Pavadinimas: Naktį girta moteris taranavo vilkiką, Nuoroda: https://www.jonavoszinios.lt/naujiena/nakti-girta-moteris-taranavo-vilkika\n",
      "Pavadinimas: Jonavos ,,CBet\" iš Šiaulių parsiveža pergalę, Nuoroda: https://www.jonavoszinios.lt/naujiena/jonavos-c-bet-is-siauliu-parsiveza-pergale\n",
      "Pavadinimas: FK ,,Jonava\" pirmosiose sezono rungtynėse patyrė pralaimėjimą, Nuoroda: https://www.jonavoszinios.lt/naujiena/fk-jonava-pirmosiose-sezono-rungtynese-patyre-pralaimejima\n",
      "Pavadinimas: Pergalingas ,,Vikingų\" startas TOPsport futsal A lygos pusfinalio etape, Nuoroda: https://www.jonavoszinios.lt/naujiena/pergalingas-vikingu-startas-topsport-futsal-a-lygos-pusfinalio-etape\n",
      "Pavadinimas: Jonavos „Be1“ klubas sezoną pasitinka atjaunėjęs, bet kartelės nenuleidžia, Nuoroda: https://www.jonavoszinios.lt/naujiena/jonavos-be-1-klubas-sezona-pasitinka-atjaunejes-bet-karteles-nenuleidzia\n",
      "Pavadinimas: Rungtynėmis Jonavoje startuoja „TOPsport futsal A lygos“ pusfinalio etapas: rytoj ,,Vikingai\" susitinka su ,,Bruklinu\", Nuoroda: https://www.jonavoszinios.lt/naujiena/rungtynemis-jonavoje-startuoja-to-psport-futsal-a-lygos-pusfinalio-etapas-rytoj-vikingai-susitinka-su-bruklinu\n"
     ]
    }
   ],
   "source": [
    "import requests\n",
    "from bs4 import BeautifulSoup\n",
    "\n",
    "doc = requests.get(\"https://www.jonavoszinios.lt/\")\n",
    "\n",
    "# Atgal gaunamas statuso kodas\n",
    "# print(doc.status_code)\n",
    "\n",
    "if doc.status_code != 200 :\n",
    "    print(\"Prisijungimas nepavyko\")\n",
    "\n",
    "# Konvertuojame gautą HTML kodą į objektą\n",
    "html = BeautifulSoup(doc.text)\n",
    "\n",
    "# Visų elementų paieška pagal nurodytą selektorių\n",
    "titles = html.select(\".entry-title h3\")\n",
    "\n",
    "for title in titles : \n",
    "    href = title.select_one(\"a\").attrs[\"href\"]\n",
    "    \n",
    "    print(f\"Pavadinimas: {title.text}, Nuoroda: {href}\")"
   ]
  }
 ],
 "metadata": {
  "kernelspec": {
   "display_name": "Python 3",
   "language": "python",
   "name": "python3"
  },
  "language_info": {
   "codemirror_mode": {
    "name": "ipython",
    "version": 3
   },
   "file_extension": ".py",
   "mimetype": "text/x-python",
   "name": "python",
   "nbconvert_exporter": "python",
   "pygments_lexer": "ipython3",
   "version": "3.13.0"
  }
 },
 "nbformat": 4,
 "nbformat_minor": 2
}
