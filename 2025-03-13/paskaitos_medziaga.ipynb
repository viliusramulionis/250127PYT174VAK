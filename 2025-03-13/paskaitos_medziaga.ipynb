{
 "cells": [
  {
   "cell_type": "code",
   "execution_count": null,
   "metadata": {},
   "outputs": [],
   "source": [
    "# NEVEIKIANTIS PAVYZDYS\n",
    "\n",
    "import requests\n",
    "from bs4 import BeautifulSoup\n",
    "\n",
    "res = requests.get(\"https://lastmile.lt/\")\n",
    "\n",
    "html = BeautifulSoup(res.text)\n",
    "\n",
    "print(res.text)"
   ]
  },
  {
   "cell_type": "code",
   "execution_count": null,
   "metadata": {},
   "outputs": [
    {
     "name": "stdout",
     "output_type": "stream",
     "text": [
      "Parduotuvės netoliese\n"
     ]
    }
   ],
   "source": [
    "# PIRMAS PAVYZDYS\n",
    "\n",
    "from selenium import webdriver\n",
    "from time import sleep\n",
    "from bs4 import BeautifulSoup\n",
    "from selenium.webdriver.chrome.options import Options\n",
    "\n",
    "# Naršyklės nustatymų iniciavimas\n",
    "nustatymai = Options()\n",
    "\n",
    "# Nustatymo pridėjimas, jog naršyklė bus atidaroma fone\n",
    "nustatymai.add_argument('--headless')\n",
    "\n",
    "# Pasirinktos narsykles iniciavimo eilute\n",
    "driver = webdriver.Chrome(options=nustatymai)\n",
    "\n",
    "# Uzklausos adresas\n",
    "driver.get(\"https://lastmile.lt/\")\n",
    "\n",
    "# ._fos-f-size-xxl\n",
    "\n",
    "html = BeautifulSoup(driver.page_source)\n",
    "\n",
    "sleep(4) \n",
    "\n",
    "print(html.select_one(\"._fos-f-size-xxl\").text)\n",
    "\n",
    "# Dešimties sekundžių palaukimas\n",
    "# sleep(10)\n",
    "\n",
    "# Narsykles isjungimas\n",
    "driver.quit()"
   ]
  },
  {
   "cell_type": "code",
   "execution_count": null,
   "metadata": {},
   "outputs": [],
   "source": [
    "from selenium import webdriver\n",
    "from time import sleep\n",
    "from bs4 import BeautifulSoup\n",
    "from selenium.webdriver.chrome.options import Options\n",
    "\n",
    "# Naršyklės nustatymų iniciavimas\n",
    "nustatymai = Options()\n",
    "\n",
    "# Nustatymo pridėjimas, jog naršyklė bus atidaroma fone\n",
    "nustatymai.add_argument('--headless')\n",
    "\n",
    "# Pasirinktos narsykles iniciavimo eilute\n",
    "driver = webdriver.Chrome(options=nustatymai)\n",
    "\n",
    "# Uzklausos adresas\n",
    "driver.get(\"https://lastmile.lt/\")\n",
    "\n",
    "# ._fos-f-size-xxl\n",
    "\n",
    "html = BeautifulSoup(driver.page_source)\n",
    "\n",
    "sleep(4) \n",
    "\n",
    "print(html.select_one(\"._fos-f-size-xxl\").text)\n",
    "\n",
    "# Dešimties sekundžių palaukimas\n",
    "# sleep(10)\n",
    "\n",
    "# Narsykles isjungimas\n",
    "driver.quit()"
   ]
  }
 ],
 "metadata": {
  "kernelspec": {
   "display_name": "Python 3",
   "language": "python",
   "name": "python3"
  },
  "language_info": {
   "codemirror_mode": {
    "name": "ipython",
    "version": 3
   },
   "file_extension": ".py",
   "mimetype": "text/x-python",
   "name": "python",
   "nbconvert_exporter": "python",
   "pygments_lexer": "ipython3",
   "version": "3.13.0"
  }
 },
 "nbformat": 4,
 "nbformat_minor": 2
}
