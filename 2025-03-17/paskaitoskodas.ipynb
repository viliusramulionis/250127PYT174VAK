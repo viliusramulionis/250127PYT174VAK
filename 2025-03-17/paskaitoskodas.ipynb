{
 "cells": [
  {
   "cell_type": "code",
   "execution_count": 24,
   "metadata": {},
   "outputs": [],
   "source": [
    "from selenium import webdriver\n",
    "from time import sleep\n",
    "from bs4 import BeautifulSoup\n",
    "from selenium.webdriver.chrome.options import Options\n",
    "from selenium.webdriver.common.by import By\n",
    "\n",
    "driver = webdriver.Chrome()\n",
    "\n",
    "failas = open(\"data.csv\", \"w\", encoding=\"utf8\")\n",
    "\n",
    "# Uzklausos adresas\n",
    "driver.get(\"https://www.rimi.lt/e-parduotuve\")\n",
    "\n",
    "driver.maximize_window()\n",
    "\n",
    "sleep(.5)\n",
    "\n",
    "# Sutikimas su sausainėlių politika\n",
    "mygtukas = driver.find_element(By.CSS_SELECTOR, \"#CybotCookiebotDialogBodyLevelButtonLevelOptinAllowAll\")\n",
    "\n",
    "mygtukas.click()\n",
    "\n",
    "# Paieškos laukelio suradimas\n",
    "laukelis = driver.find_element(By.CSS_SELECTOR, \"#search-input\")\n",
    "\n",
    "# Ieškomos frazės įvedimas\n",
    "laukelis.send_keys(\"Mandarinai\")\n",
    "\n",
    "driver.find_element(By.CSS_SELECTOR, \"[aria-label=\\\"Search\\\"]\").click()\n",
    "\n",
    "korteles = driver.find_elements(By.CSS_SELECTOR, \".product-grid__item\")\n",
    "\n",
    "data = []\n",
    "\n",
    "for kortele in korteles :\n",
    "    pavadinimas = kortele.find_element(By.CSS_SELECTOR, \".card__name\")\n",
    "    \n",
    "    try :\n",
    "        kaina = kortele.find_element(By.CSS_SELECTOR, \".card__price\")\n",
    "\n",
    "        pirmas = kaina.find_element(By.CSS_SELECTOR, \"span\").text\n",
    "        antras = kaina.find_element(By.CSS_SELECTOR, \"div sup\").text\n",
    "        matas = kaina.find_element(By.CSS_SELECTOR, \"div sub\").text\n",
    "\n",
    "        galutine_kaina = pirmas + \",\" + antras\n",
    "    except :\n",
    "        galutine_kaina = \"Nėra\"\n",
    "        matas = \"Nėra\" \n",
    "\n",
    "    data.append(\";\".join([\n",
    "        pavadinimas.text,\n",
    "        galutine_kaina,\n",
    "        matas\n",
    "    ]))\n",
    "\n",
    "# Duomenų įrašymas į failą\n",
    "failas.write(\"\\n\".join(data))\n",
    "\n",
    "failas.close()"
   ]
  },
  {
   "cell_type": "code",
   "execution_count": 17,
   "metadata": {},
   "outputs": [
    {
     "name": "stdout",
     "output_type": "stream",
     "text": [
      "Pirmas\n",
      "Ivyko klaida\n",
      "Antras\n"
     ]
    }
   ],
   "source": [
    "print(\"Pirmas\")\n",
    "\n",
    "# Error Handling\n",
    "\n",
    "try :\n",
    "    raise Exception\n",
    "except :\n",
    "    print(\"Ivyko klaida\")\n",
    "\n",
    "print(\"Antras\")"
   ]
  },
  {
   "cell_type": "code",
   "execution_count": 19,
   "metadata": {},
   "outputs": [
    {
     "name": "stdout",
     "output_type": "stream",
     "text": [
      "Pirmas\n",
      "Klaida neįvyko\n",
      "Antras\n"
     ]
    }
   ],
   "source": [
    "import random\n",
    "\n",
    "print(\"Pirmas\")\n",
    "\n",
    "# Error Handling\n",
    "\n",
    "try :\n",
    "    if random.randint(0, 1) == 0 :\n",
    "        raise Exception\n",
    "\n",
    "    print(\"Klaida neįvyko\")\n",
    "except :\n",
    "    print(\"Ivyko klaida\")\n",
    "\n",
    "print(\"Antras\")"
   ]
  }
 ],
 "metadata": {
  "kernelspec": {
   "display_name": "Python 3",
   "language": "python",
   "name": "python3"
  },
  "language_info": {
   "codemirror_mode": {
    "name": "ipython",
    "version": 3
   },
   "file_extension": ".py",
   "mimetype": "text/x-python",
   "name": "python",
   "nbconvert_exporter": "python",
   "pygments_lexer": "ipython3",
   "version": "3.13.0"
  }
 },
 "nbformat": 4,
 "nbformat_minor": 2
}
